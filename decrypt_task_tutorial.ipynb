{
 "cells": [
  {
   "cell_type": "code",
   "execution_count": null,
   "metadata": {},
   "outputs": [],
   "source": [
    "# 必要的包\n",
    "import base64\n",
    "import gzip\n",
    "from main import decrypt_sm4, PUBLIC_KEY, PRIVATE_KEY\n",
    "# from main import decrypt_sm2 # 代码提供的decrypt_sm2过不了验签，先不用，网上随便搜一个sm在线加密解密，选c1c3c2模式"
   ]
  },
  {
   "cell_type": "code",
   "execution_count": null,
   "metadata": {},
   "outputs": [],
   "source": [
    "# 你可以运行这里copy公钥和私钥(统一的)\n",
    "print(\"公钥：\" + base64.b64encode(PUBLIC_KEY).decode(\"utf-8\"))\n",
    "print(\"私钥：\" + base64.b64encode(PRIVATE_KEY).decode(\"utf-8\"))"
   ]
  },
  {
   "cell_type": "code",
   "execution_count": null,
   "metadata": {},
   "outputs": [],
   "source": [
    "cipherkey_plaintext = base64.b64decode(\"\") # 你的解密后的密钥"
   ]
  },
  {
   "cell_type": "code",
   "execution_count": null,
   "metadata": {},
   "outputs": [],
   "source": [
    "# 运行这个，查看解密后的内容\n",
    "text = gzip.decompress(decrypt_sm4(\"dgcaMEDDH8fv3(example)\", cipherkey_plaintext)).decode()\n",
    "print(text)\n",
    "# 注意gzip，还有python3是严格区分bytes和string类型的，不能混用，记得decode和encode"
   ]
  },
  {
   "cell_type": "code",
   "execution_count": null,
   "metadata": {},
   "outputs": [],
   "source": [
    "# 保存到tasklist_{last+1}.json\n",
    "import os\n",
    "path = \"./tasks\"\n",
    "files = os.listdir(path)\n",
    "last = 0\n",
    "target = None\n",
    "if len(files) == 0:\n",
    "    target = os.path.join(path, \"tasklist_0.json\")\n",
    "else:\n",
    "    for file in files:\n",
    "        if f'tasklist_{last}.json' in file:\n",
    "            last += 1\n",
    "        else:\n",
    "            target = os.path.join(path, f\"tasklist_{last}.json\")\n",
    "            break\n",
    "    if target == None:\n",
    "        target = os.path.join(path, f\"tasklist_{last}.json\")\n",
    "with open(file=target,mode='w+', encoding=\"utf-8\") as f:\n",
    "    print(f\"write to {target}\")\n",
    "    f.write(text)\n",
    "    f.flush()"
   ]
  }
 ],
 "metadata": {
  "language_info": {
   "name": "python"
  }
 },
 "nbformat": 4,
 "nbformat_minor": 2
}
